{
 "cells": [
  {
   "cell_type": "markdown",
   "metadata": {
    "lang": "en"
   },
   "source": [
    "# Project for Wikishop with BERT"
   ]
  },
  {
   "cell_type": "markdown",
   "metadata": {
    "lang": "en"
   },
   "source": [
    "The Wikishop online store is launching a new service. Now users can\n",
    "edit and add product descriptions, like in wiki communities. That is, clients\n",
    "propose their own edits and comment on the changes of others. The store needs\n",
    "a tool that will look for toxic comments and send them to\n",
    "moderation."
   ]
  },
  {
   "cell_type": "markdown",
   "metadata": {},
   "source": [
    "P.s initially the project was executed in Russian, and only then it was translated into English using an auto-translator, so errors or untranslated sections are possible."
   ]
  },
  {
   "cell_type": "code",
   "execution_count": null,
   "metadata": {
    "colab": {
     "base_uri": "https://localhost:8080/"
    },
    "id": "Sx6KycaOpAYP",
    "outputId": "d69d48a7-f078-4b01-f39d-40c4370204ba"
   },
   "outputs": [
    {
     "name": "stdout",
     "output_type": "stream",
     "text": [
      "Drive already mounted at /content/drive; to attempt to forcibly remount, call drive.mount(\"/content/drive\", force_remount=True).\n"
     ]
    }
   ],
   "source": [
    "import pandas as pd\n",
    "import matplotlib.pyplot as plt\n",
    "import numpy as np\n",
    "import seaborn as sns\n",
    "import tqdm\n",
    "\n",
    "\n",
    "from sklearn.model_selection import train_test_split, GridSearchCV,StratifiedShuffleSplit\n",
    "from sklearn.linear_model import LogisticRegression\n",
    "from sklearn.metrics import f1_score\n",
    "from catboost import CatBoostClassifier, Pool\n",
    "\n",
    "\n",
    "from transformers import BertModel, BertTokenizer, AdamW, BertForMaskedLM\n",
    "\n",
    "\n",
    "import torch\n",
    "import torch.nn as nn\n",
    "import torch.optim as optim\n",
    "\n",
    "from torch.utils.data import Dataset, DataLoader, random_split, Subset, TensorDataset\n",
    "\n"
   ]
  },
  {
   "cell_type": "markdown",
   "metadata": {
    "lang": "en"
   },
   "source": [
    "## Preprocessing"
   ]
  },
  {
   "cell_type": "code",
   "execution_count": null,
   "metadata": {
    "id": "ZwlPh1uopkIc"
   },
   "outputs": [],
   "source": [
    "data = pd.read_csv('/datasets/toxic_comments.csv').set_index('Unnamed: 0', drop=True).reset_index(drop=True)"
   ]
  },
  {
   "cell_type": "code",
   "execution_count": null,
   "metadata": {
    "colab": {
     "base_uri": "https://localhost:8080/",
     "height": 206
    },
    "id": "xjaRFvFQp1vL",
    "outputId": "8b27b8d6-b5fd-4a41-e014-73b42b0e73f0"
   },
   "outputs": [
    {
     "data": {
      "text/html": [
       "\n",
       "\n",
       "  <div id=\"df-3b27665a-5a75-48a2-8d1f-93bdd16d2a5a\">\n",
       "    <div class=\"colab-df-container\">\n",
       "      <div>\n",
       "<style scoped>\n",
       "    .dataframe tbody tr th:only-of-type {\n",
       "        vertical-align: middle;\n",
       "    }\n",
       "\n",
       "    .dataframe tbody tr th {\n",
       "        vertical-align: top;\n",
       "    }\n",
       "\n",
       "    .dataframe thead th {\n",
       "        text-align: right;\n",
       "    }\n",
       "</style>\n",
       "<table border=\"1\" class=\"dataframe\">\n",
       "  <thead>\n",
       "    <tr style=\"text-align: right;\">\n",
       "      <th></th>\n",
       "      <th>text</th>\n",
       "      <th>toxic</th>\n",
       "    </tr>\n",
       "  </thead>\n",
       "  <tbody>\n",
       "    <tr>\n",
       "      <th>0</th>\n",
       "      <td>Explanation\\nWhy the edits made under my usern...</td>\n",
       "      <td>0</td>\n",
       "    </tr>\n",
       "    <tr>\n",
       "      <th>1</th>\n",
       "      <td>D'aww! He matches this background colour I'm s...</td>\n",
       "      <td>0</td>\n",
       "    </tr>\n",
       "    <tr>\n",
       "      <th>2</th>\n",
       "      <td>Hey man, I'm really not trying to edit war. It...</td>\n",
       "      <td>0</td>\n",
       "    </tr>\n",
       "    <tr>\n",
       "      <th>3</th>\n",
       "      <td>\"\\nMore\\nI can't make any real suggestions on ...</td>\n",
       "      <td>0</td>\n",
       "    </tr>\n",
       "    <tr>\n",
       "      <th>4</th>\n",
       "      <td>You, sir, are my hero. Any chance you remember...</td>\n",
       "      <td>0</td>\n",
       "    </tr>\n",
       "  </tbody>\n",
       "</table>\n",
       "</div>\n",
       "      <button class=\"colab-df-convert\" onclick=\"convertToInteractive('df-3b27665a-5a75-48a2-8d1f-93bdd16d2a5a')\"\n",
       "              title=\"Convert this dataframe to an interactive table.\"\n",
       "              style=\"display:none;\">\n",
       "\n",
       "  <svg xmlns=\"http://www.w3.org/2000/svg\" height=\"24px\"viewBox=\"0 0 24 24\"\n",
       "       width=\"24px\">\n",
       "    <path d=\"M0 0h24v24H0V0z\" fill=\"none\"/>\n",
       "    <path d=\"M18.56 5.44l.94 2.06.94-2.06 2.06-.94-2.06-.94-.94-2.06-.94 2.06-2.06.94zm-11 1L8.5 8.5l.94-2.06 2.06-.94-2.06-.94L8.5 2.5l-.94 2.06-2.06.94zm10 10l.94 2.06.94-2.06 2.06-.94-2.06-.94-.94-2.06-.94 2.06-2.06.94z\"/><path d=\"M17.41 7.96l-1.37-1.37c-.4-.4-.92-.59-1.43-.59-.52 0-1.04.2-1.43.59L10.3 9.45l-7.72 7.72c-.78.78-.78 2.05 0 2.83L4 21.41c.39.39.9.59 1.41.59.51 0 1.02-.2 1.41-.59l7.78-7.78 2.81-2.81c.8-.78.8-2.07 0-2.86zM5.41 20L4 18.59l7.72-7.72 1.47 1.35L5.41 20z\"/>\n",
       "  </svg>\n",
       "      </button>\n",
       "\n",
       "\n",
       "\n",
       "    <div id=\"df-04745c6f-4587-436a-ba4a-ff2f28f2144b\">\n",
       "      <button class=\"colab-df-quickchart\" onclick=\"quickchart('df-04745c6f-4587-436a-ba4a-ff2f28f2144b')\"\n",
       "              title=\"Suggest charts.\"\n",
       "              style=\"display:none;\">\n",
       "\n",
       "<svg xmlns=\"http://www.w3.org/2000/svg\" height=\"24px\"viewBox=\"0 0 24 24\"\n",
       "     width=\"24px\">\n",
       "    <g>\n",
       "        <path d=\"M19 3H5c-1.1 0-2 .9-2 2v14c0 1.1.9 2 2 2h14c1.1 0 2-.9 2-2V5c0-1.1-.9-2-2-2zM9 17H7v-7h2v7zm4 0h-2V7h2v10zm4 0h-2v-4h2v4z\"/>\n",
       "    </g>\n",
       "</svg>\n",
       "      </button>\n",
       "    </div>\n",
       "\n",
       "<style>\n",
       "  .colab-df-quickchart {\n",
       "    background-color: #E8F0FE;\n",
       "    border: none;\n",
       "    border-radius: 50%;\n",
       "    cursor: pointer;\n",
       "    display: none;\n",
       "    fill: #1967D2;\n",
       "    height: 32px;\n",
       "    padding: 0 0 0 0;\n",
       "    width: 32px;\n",
       "  }\n",
       "\n",
       "  .colab-df-quickchart:hover {\n",
       "    background-color: #E2EBFA;\n",
       "    box-shadow: 0px 1px 2px rgba(60, 64, 67, 0.3), 0px 1px 3px 1px rgba(60, 64, 67, 0.15);\n",
       "    fill: #174EA6;\n",
       "  }\n",
       "\n",
       "  [theme=dark] .colab-df-quickchart {\n",
       "    background-color: #3B4455;\n",
       "    fill: #D2E3FC;\n",
       "  }\n",
       "\n",
       "  [theme=dark] .colab-df-quickchart:hover {\n",
       "    background-color: #434B5C;\n",
       "    box-shadow: 0px 1px 3px 1px rgba(0, 0, 0, 0.15);\n",
       "    filter: drop-shadow(0px 1px 2px rgba(0, 0, 0, 0.3));\n",
       "    fill: #FFFFFF;\n",
       "  }\n",
       "</style>\n",
       "\n",
       "    <script>\n",
       "      async function quickchart(key) {\n",
       "        const containerElement = document.querySelector('#' + key);\n",
       "        const charts = await google.colab.kernel.invokeFunction(\n",
       "            'suggestCharts', [key], {});\n",
       "      }\n",
       "    </script>\n",
       "\n",
       "      <script>\n",
       "\n",
       "function displayQuickchartButton(domScope) {\n",
       "  let quickchartButtonEl =\n",
       "    domScope.querySelector('#df-04745c6f-4587-436a-ba4a-ff2f28f2144b button.colab-df-quickchart');\n",
       "  quickchartButtonEl.style.display =\n",
       "    google.colab.kernel.accessAllowed ? 'block' : 'none';\n",
       "}\n",
       "\n",
       "        displayQuickchartButton(document);\n",
       "      </script>\n",
       "      <style>\n",
       "    .colab-df-container {\n",
       "      display:flex;\n",
       "      flex-wrap:wrap;\n",
       "      gap: 12px;\n",
       "    }\n",
       "\n",
       "    .colab-df-convert {\n",
       "      background-color: #E8F0FE;\n",
       "      border: none;\n",
       "      border-radius: 50%;\n",
       "      cursor: pointer;\n",
       "      display: none;\n",
       "      fill: #1967D2;\n",
       "      height: 32px;\n",
       "      padding: 0 0 0 0;\n",
       "      width: 32px;\n",
       "    }\n",
       "\n",
       "    .colab-df-convert:hover {\n",
       "      background-color: #E2EBFA;\n",
       "      box-shadow: 0px 1px 2px rgba(60, 64, 67, 0.3), 0px 1px 3px 1px rgba(60, 64, 67, 0.15);\n",
       "      fill: #174EA6;\n",
       "    }\n",
       "\n",
       "    [theme=dark] .colab-df-convert {\n",
       "      background-color: #3B4455;\n",
       "      fill: #D2E3FC;\n",
       "    }\n",
       "\n",
       "    [theme=dark] .colab-df-convert:hover {\n",
       "      background-color: #434B5C;\n",
       "      box-shadow: 0px 1px 3px 1px rgba(0, 0, 0, 0.15);\n",
       "      filter: drop-shadow(0px 1px 2px rgba(0, 0, 0, 0.3));\n",
       "      fill: #FFFFFF;\n",
       "    }\n",
       "  </style>\n",
       "\n",
       "      <script>\n",
       "        const buttonEl =\n",
       "          document.querySelector('#df-3b27665a-5a75-48a2-8d1f-93bdd16d2a5a button.colab-df-convert');\n",
       "        buttonEl.style.display =\n",
       "          google.colab.kernel.accessAllowed ? 'block' : 'none';\n",
       "\n",
       "        async function convertToInteractive(key) {\n",
       "          const element = document.querySelector('#df-3b27665a-5a75-48a2-8d1f-93bdd16d2a5a');\n",
       "          const dataTable =\n",
       "            await google.colab.kernel.invokeFunction('convertToInteractive',\n",
       "                                                     [key], {});\n",
       "          if (!dataTable) return;\n",
       "\n",
       "          const docLinkHtml = 'Like what you see? Visit the ' +\n",
       "            '<a target=\"_blank\" href=https://colab.research.google.com/notebooks/data_table.ipynb>data table notebook</a>'\n",
       "            + ' to learn more about interactive tables.';\n",
       "          element.innerHTML = '';\n",
       "          dataTable['output_type'] = 'display_data';\n",
       "          await google.colab.output.renderOutput(dataTable, element);\n",
       "          const docLink = document.createElement('div');\n",
       "          docLink.innerHTML = docLinkHtml;\n",
       "          element.appendChild(docLink);\n",
       "        }\n",
       "      </script>\n",
       "    </div>\n",
       "  </div>\n"
      ],
      "text/plain": [
       "                                                text  toxic\n",
       "0  Explanation\\nWhy the edits made under my usern...      0\n",
       "1  D'aww! He matches this background colour I'm s...      0\n",
       "2  Hey man, I'm really not trying to edit war. It...      0\n",
       "3  \"\\nMore\\nI can't make any real suggestions on ...      0\n",
       "4  You, sir, are my hero. Any chance you remember...      0"
      ]
     },
     "execution_count": 5,
     "metadata": {},
     "output_type": "execute_result"
    }
   ],
   "source": [
    "data.head()"
   ]
  },
  {
   "cell_type": "code",
   "execution_count": null,
   "metadata": {
    "colab": {
     "base_uri": "https://localhost:8080/"
    },
    "id": "qcKtZArqp1xE",
    "outputId": "78cf44cc-9cb2-47a3-fdcc-e147a7b0b8c0"
   },
   "outputs": [
    {
     "name": "stdout",
     "output_type": "stream",
     "text": [
      "<class 'pandas.core.frame.DataFrame'>\n",
      "RangeIndex: 159292 entries, 0 to 159291\n",
      "Data columns (total 2 columns):\n",
      " #   Column  Non-Null Count   Dtype \n",
      "---  ------  --------------   ----- \n",
      " 0   text    159292 non-null  object\n",
      " 1   toxic   159292 non-null  int64 \n",
      "dtypes: int64(1), object(1)\n",
      "memory usage: 2.4+ MB\n"
     ]
    }
   ],
   "source": [
    "data.info()"
   ]
  },
  {
   "cell_type": "code",
   "execution_count": null,
   "metadata": {
    "colab": {
     "base_uri": "https://localhost:8080/"
    },
    "id": "afXfIKf8p1za",
    "outputId": "69ca1771-eca4-417a-99a4-3c540f1d3b3c"
   },
   "outputs": [
    {
     "data": {
      "text/plain": [
       "text     0\n",
       "toxic    0\n",
       "dtype: int64"
      ]
     },
     "execution_count": 7,
     "metadata": {},
     "output_type": "execute_result"
    }
   ],
   "source": [
    "data.isna().sum()"
   ]
  },
  {
   "cell_type": "code",
   "execution_count": null,
   "metadata": {
    "colab": {
     "base_uri": "https://localhost:8080/"
    },
    "id": "tSKrAik1p11n",
    "outputId": "8c8ea5f4-4727-43fb-b041-4100db8fb225"
   },
   "outputs": [
    {
     "data": {
      "text/plain": [
       "0"
      ]
     },
     "execution_count": 8,
     "metadata": {},
     "output_type": "execute_result"
    }
   ],
   "source": [
    "data.duplicated().sum()"
   ]
  },
  {
   "cell_type": "code",
   "execution_count": null,
   "metadata": {
    "colab": {
     "base_uri": "https://localhost:8080/",
     "height": 300
    },
    "id": "f_xF-sCGp134",
    "outputId": "e4993e1c-60ca-42a8-acdb-396dd6aa81f8"
   },
   "outputs": [
    {
     "data": {
      "text/html": [
       "\n",
       "\n",
       "  <div id=\"df-14d272af-d680-4f32-8143-e80068a4f3d1\">\n",
       "    <div class=\"colab-df-container\">\n",
       "      <div>\n",
       "<style scoped>\n",
       "    .dataframe tbody tr th:only-of-type {\n",
       "        vertical-align: middle;\n",
       "    }\n",
       "\n",
       "    .dataframe tbody tr th {\n",
       "        vertical-align: top;\n",
       "    }\n",
       "\n",
       "    .dataframe thead th {\n",
       "        text-align: right;\n",
       "    }\n",
       "</style>\n",
       "<table border=\"1\" class=\"dataframe\">\n",
       "  <thead>\n",
       "    <tr style=\"text-align: right;\">\n",
       "      <th></th>\n",
       "      <th>toxic</th>\n",
       "    </tr>\n",
       "  </thead>\n",
       "  <tbody>\n",
       "    <tr>\n",
       "      <th>count</th>\n",
       "      <td>159292.000000</td>\n",
       "    </tr>\n",
       "    <tr>\n",
       "      <th>mean</th>\n",
       "      <td>0.101612</td>\n",
       "    </tr>\n",
       "    <tr>\n",
       "      <th>std</th>\n",
       "      <td>0.302139</td>\n",
       "    </tr>\n",
       "    <tr>\n",
       "      <th>min</th>\n",
       "      <td>0.000000</td>\n",
       "    </tr>\n",
       "    <tr>\n",
       "      <th>25%</th>\n",
       "      <td>0.000000</td>\n",
       "    </tr>\n",
       "    <tr>\n",
       "      <th>50%</th>\n",
       "      <td>0.000000</td>\n",
       "    </tr>\n",
       "    <tr>\n",
       "      <th>75%</th>\n",
       "      <td>0.000000</td>\n",
       "    </tr>\n",
       "    <tr>\n",
       "      <th>max</th>\n",
       "      <td>1.000000</td>\n",
       "    </tr>\n",
       "  </tbody>\n",
       "</table>\n",
       "</div>\n",
       "      <button class=\"colab-df-convert\" onclick=\"convertToInteractive('df-14d272af-d680-4f32-8143-e80068a4f3d1')\"\n",
       "              title=\"Convert this dataframe to an interactive table.\"\n",
       "              style=\"display:none;\">\n",
       "\n",
       "  <svg xmlns=\"http://www.w3.org/2000/svg\" height=\"24px\"viewBox=\"0 0 24 24\"\n",
       "       width=\"24px\">\n",
       "    <path d=\"M0 0h24v24H0V0z\" fill=\"none\"/>\n",
       "    <path d=\"M18.56 5.44l.94 2.06.94-2.06 2.06-.94-2.06-.94-.94-2.06-.94 2.06-2.06.94zm-11 1L8.5 8.5l.94-2.06 2.06-.94-2.06-.94L8.5 2.5l-.94 2.06-2.06.94zm10 10l.94 2.06.94-2.06 2.06-.94-2.06-.94-.94-2.06-.94 2.06-2.06.94z\"/><path d=\"M17.41 7.96l-1.37-1.37c-.4-.4-.92-.59-1.43-.59-.52 0-1.04.2-1.43.59L10.3 9.45l-7.72 7.72c-.78.78-.78 2.05 0 2.83L4 21.41c.39.39.9.59 1.41.59.51 0 1.02-.2 1.41-.59l7.78-7.78 2.81-2.81c.8-.78.8-2.07 0-2.86zM5.41 20L4 18.59l7.72-7.72 1.47 1.35L5.41 20z\"/>\n",
       "  </svg>\n",
       "      </button>\n",
       "\n",
       "\n",
       "\n",
       "    <div id=\"df-4c5b1762-3207-4415-b178-2d4069c9efb4\">\n",
       "      <button class=\"colab-df-quickchart\" onclick=\"quickchart('df-4c5b1762-3207-4415-b178-2d4069c9efb4')\"\n",
       "              title=\"Suggest charts.\"\n",
       "              style=\"display:none;\">\n",
       "\n",
       "<svg xmlns=\"http://www.w3.org/2000/svg\" height=\"24px\"viewBox=\"0 0 24 24\"\n",
       "     width=\"24px\">\n",
       "    <g>\n",
       "        <path d=\"M19 3H5c-1.1 0-2 .9-2 2v14c0 1.1.9 2 2 2h14c1.1 0 2-.9 2-2V5c0-1.1-.9-2-2-2zM9 17H7v-7h2v7zm4 0h-2V7h2v10zm4 0h-2v-4h2v4z\"/>\n",
       "    </g>\n",
       "</svg>\n",
       "      </button>\n",
       "    </div>\n",
       "\n",
       "<style>\n",
       "  .colab-df-quickchart {\n",
       "    background-color: #E8F0FE;\n",
       "    border: none;\n",
       "    border-radius: 50%;\n",
       "    cursor: pointer;\n",
       "    display: none;\n",
       "    fill: #1967D2;\n",
       "    height: 32px;\n",
       "    padding: 0 0 0 0;\n",
       "    width: 32px;\n",
       "  }\n",
       "\n",
       "  .colab-df-quickchart:hover {\n",
       "    background-color: #E2EBFA;\n",
       "    box-shadow: 0px 1px 2px rgba(60, 64, 67, 0.3), 0px 1px 3px 1px rgba(60, 64, 67, 0.15);\n",
       "    fill: #174EA6;\n",
       "  }\n",
       "\n",
       "  [theme=dark] .colab-df-quickchart {\n",
       "    background-color: #3B4455;\n",
       "    fill: #D2E3FC;\n",
       "  }\n",
       "\n",
       "  [theme=dark] .colab-df-quickchart:hover {\n",
       "    background-color: #434B5C;\n",
       "    box-shadow: 0px 1px 3px 1px rgba(0, 0, 0, 0.15);\n",
       "    filter: drop-shadow(0px 1px 2px rgba(0, 0, 0, 0.3));\n",
       "    fill: #FFFFFF;\n",
       "  }\n",
       "</style>\n",
       "\n",
       "    <script>\n",
       "      async function quickchart(key) {\n",
       "        const containerElement = document.querySelector('#' + key);\n",
       "        const charts = await google.colab.kernel.invokeFunction(\n",
       "            'suggestCharts', [key], {});\n",
       "      }\n",
       "    </script>\n",
       "\n",
       "      <script>\n",
       "\n",
       "function displayQuickchartButton(domScope) {\n",
       "  let quickchartButtonEl =\n",
       "    domScope.querySelector('#df-4c5b1762-3207-4415-b178-2d4069c9efb4 button.colab-df-quickchart');\n",
       "  quickchartButtonEl.style.display =\n",
       "    google.colab.kernel.accessAllowed ? 'block' : 'none';\n",
       "}\n",
       "\n",
       "        displayQuickchartButton(document);\n",
       "      </script>\n",
       "      <style>\n",
       "    .colab-df-container {\n",
       "      display:flex;\n",
       "      flex-wrap:wrap;\n",
       "      gap: 12px;\n",
       "    }\n",
       "\n",
       "    .colab-df-convert {\n",
       "      background-color: #E8F0FE;\n",
       "      border: none;\n",
       "      border-radius: 50%;\n",
       "      cursor: pointer;\n",
       "      display: none;\n",
       "      fill: #1967D2;\n",
       "      height: 32px;\n",
       "      padding: 0 0 0 0;\n",
       "      width: 32px;\n",
       "    }\n",
       "\n",
       "    .colab-df-convert:hover {\n",
       "      background-color: #E2EBFA;\n",
       "      box-shadow: 0px 1px 2px rgba(60, 64, 67, 0.3), 0px 1px 3px 1px rgba(60, 64, 67, 0.15);\n",
       "      fill: #174EA6;\n",
       "    }\n",
       "\n",
       "    [theme=dark] .colab-df-convert {\n",
       "      background-color: #3B4455;\n",
       "      fill: #D2E3FC;\n",
       "    }\n",
       "\n",
       "    [theme=dark] .colab-df-convert:hover {\n",
       "      background-color: #434B5C;\n",
       "      box-shadow: 0px 1px 3px 1px rgba(0, 0, 0, 0.15);\n",
       "      filter: drop-shadow(0px 1px 2px rgba(0, 0, 0, 0.3));\n",
       "      fill: #FFFFFF;\n",
       "    }\n",
       "  </style>\n",
       "\n",
       "      <script>\n",
       "        const buttonEl =\n",
       "          document.querySelector('#df-14d272af-d680-4f32-8143-e80068a4f3d1 button.colab-df-convert');\n",
       "        buttonEl.style.display =\n",
       "          google.colab.kernel.accessAllowed ? 'block' : 'none';\n",
       "\n",
       "        async function convertToInteractive(key) {\n",
       "          const element = document.querySelector('#df-14d272af-d680-4f32-8143-e80068a4f3d1');\n",
       "          const dataTable =\n",
       "            await google.colab.kernel.invokeFunction('convertToInteractive',\n",
       "                                                     [key], {});\n",
       "          if (!dataTable) return;\n",
       "\n",
       "          const docLinkHtml = 'Like what you see? Visit the ' +\n",
       "            '<a target=\"_blank\" href=https://colab.research.google.com/notebooks/data_table.ipynb>data table notebook</a>'\n",
       "            + ' to learn more about interactive tables.';\n",
       "          element.innerHTML = '';\n",
       "          dataTable['output_type'] = 'display_data';\n",
       "          await google.colab.output.renderOutput(dataTable, element);\n",
       "          const docLink = document.createElement('div');\n",
       "          docLink.innerHTML = docLinkHtml;\n",
       "          element.appendChild(docLink);\n",
       "        }\n",
       "      </script>\n",
       "    </div>\n",
       "  </div>\n"
      ],
      "text/plain": [
       "               toxic\n",
       "count  159292.000000\n",
       "mean        0.101612\n",
       "std         0.302139\n",
       "min         0.000000\n",
       "25%         0.000000\n",
       "50%         0.000000\n",
       "75%         0.000000\n",
       "max         1.000000"
      ]
     },
     "execution_count": 9,
     "metadata": {},
     "output_type": "execute_result"
    }
   ],
   "source": [
    "data.describe()"
   ]
  },
  {
   "cell_type": "markdown",
   "metadata": {
    "lang": "en"
   },
   "source": [
    "We see an imbalance across classes, so it will be important to stratify the test and training samples"
   ]
  },
  {
   "cell_type": "code",
   "execution_count": null,
   "metadata": {
    "colab": {
     "base_uri": "https://localhost:8080/",
     "height": 1000
    },
    "id": "8eS-k4Vkp158",
    "outputId": "3c777a86-74d4-4fec-e752-6778c3ebac2c"
   },
   "outputs": [
    {
     "data": {
      "image/png": "[encoded data removed]",
      "text/plain": [
       "<Figure size 1200x600 with 1 Axes>"
      ]
     },
     "metadata": {},
     "output_type": "display_data"
    },
    {
     "data": {
      "image/png": "[encoded data removed]",
      "text/plain": [
       "<Figure size 1200x600 with 1 Axes>"
      ]
     },
     "metadata": {},
     "output_type": "display_data"
    }
   ],
   "source": [
    "data['text_length_words'] = data['text'].apply(lambda x: len(x.split()))\n",
    "data['text_length_chars'] = data['text'].apply(len)\n",
    "\n",
    "plt.figure(figsize=(12, 6))\n",
    "\n",
    "sns.histplot(data[data['toxic'] == 0], x='text_length_words', bins=50, alpha=0.5, color='blue', label='No Toxic')\n",
    "\n",
    "sns.histplot(data[data['toxic'] == 1], x='text_length_words', bins=50, alpha=0.5, color='red', label='Toxic')\n",
    "\n",
    "plt.xlabel('Длина комментариев в словах')\n",
    "plt.ylabel('Количество комментариев')\n",
    "plt.title('Распределение длин комментариев в словах')\n",
    "plt.legend()\n",
    "\n",
    "plt.show()\n",
    "\n",
    "plt.figure(figsize=(12, 6))\n",
    "\n",
    "sns.histplot(data[data['toxic'] == 0], x='text_length_chars', bins=50, alpha=0.5, color='blue', label='No Toxic')\n",
    "\n",
    "sns.histplot(data[data['toxic'] == 1], x='text_length_chars', bins=50, alpha=0.5, color='red', label='Toxic')\n",
    "\n",
    "plt.xlabel('Длина комментариев в символах')\n",
    "plt.ylabel('Количество комментариев')\n",
    "plt.title('Распределение длин комментариев в символах')\n",
    "plt.legend()\n",
    "\n",
    "plt.show()\n",
    "data = data.drop(['text_length_words', 'text_length_chars'],axis=1)"
   ]
  },
  {
   "cell_type": "markdown",
   "metadata": {
    "lang": "en"
   },
   "source": [
    "## Text encoding"
   ]
  },
  {
   "cell_type": "markdown",
   "metadata": {
    "lang": "en"
   },
   "source": [
    "Before obtaining embeddings using BERT, we need to additionally train BERT on our dataset to improve coding accuracy."
   ]
  },
  {
   "cell_type": "code",
   "execution_count": null,
   "metadata": {
    "id": "E9vhcEbpXeER"
   },
   "outputs": [],
   "source": [
    "sentences = data.text.values"
   ]
  },
  {
   "cell_type": "markdown",
   "metadata": {
    "lang": "en"
   },
   "source": [
    "### Training BERT"
   ]
  },
  {
   "cell_type": "markdown",
   "metadata": {
    "lang": "en"
   },
   "source": [
    "BERT was originally introduced as a model for pre-training on a masked language modeling task. This means that during pre-training, BERT tried to “guess” the masked words in a sentence based on context.\n",
    "\n",
    "When we talk about \"retraining BERT just to get embeddings, i.e. without any classification head on top\", it means that we just want BERT to learn to better understand and represent our particular dataset, without trying to classify or decide which - another specific task using these embeddings.\n",
    "\n",
    "Simply put, instead of teaching BERT to perform a specific task on our dataset (such as classification), we want to “tune” BERT so that it better understands the features of our dataset. We do this by continuing training on the MLM problem, minimizing the reconstruction error for masked tokens. Thus, the embeddings that we receive from BERT after such additional training will be more relevant and accurate for our dataset."
   ]
  },
  {
   "cell_type": "code",
   "execution_count": null,
   "metadata": {
    "id": "3OBPf70jhRGo"
   },
   "outputs": [],
   "source": [
    "tokenizer = BertTokenizer.from_pretrained('bert-base-uncased')\n",
    "MAX_LEN = 512\n",
    "\n",
    "texts = data.text.values.tolist()\n",
    "labels = data.toxic.values\n",
    "# Токенизация данных и создание \"маскированных\" входов\n",
    "inputs = tokenizer(texts, return_tensors=\"pt\", max_length=MAX_LEN, truncation=True, padding=True)\n",
    "inputs[\"labels\"] = inputs.input_ids.detach().clone()\n",
    "\n",
    "# создаем маски для 15% токенов для маскированного языкового моделирования\n",
    "rand = torch.rand(inputs.input_ids.shape)\n",
    "mask_arr = (rand < 0.15) * (inputs.input_ids != 101) * (inputs.input_ids != 102) * (inputs.input_ids != 0)\n",
    "\n",
    "for i in range(inputs.input_ids.shape[0]):\n",
    "    selection = torch.flatten(mask_arr[i].nonzero()).tolist()\n",
    "    inputs.input_ids[i, selection] = 103  # 103 is the token ID for '[MASK]'\n",
    "\n",
    "dataset = TensorDataset(inputs.input_ids, inputs.attention_mask, inputs.labels)\n",
    "train_size = int(0.9 * len(dataset))\n",
    "val_size = len(dataset) - train_size\n",
    "\n",
    "train_dataset, val_dataset = random_split(dataset, [train_size, val_size])\n",
    "train_dataloader = DataLoader(train_dataset, shuffle=True, batch_size=25)\n",
    "val_dataloader = DataLoader(val_dataset, batch_size=8)\n"
   ]
  },
  {
   "cell_type": "code",
   "execution_count": null,
   "metadata": {
    "colab": {
     "base_uri": "https://localhost:8080/"
    },
    "id": "aYrdL2ZbhRIv",
    "outputId": "38bd5c4e-47d1-45cb-944d-4c1ec803baec"
   },
   "outputs": [
    {
     "name": "stderr",
     "output_type": "stream",
     "text": [
      "Some weights of the model checkpoint at bert-base-uncased were not used when initializing BertForMaskedLM: ['bert.pooler.dense.bias', 'cls.seq_relationship.weight', 'bert.pooler.dense.weight', 'cls.seq_relationship.bias']\n",
      "- This IS expected if you are initializing BertForMaskedLM from the checkpoint of a model trained on another task or with another architecture (e.g. initializing a BertForSequenceClassification model from a BertForPreTraining model).\n",
      "- This IS NOT expected if you are initializing BertForMaskedLM from the checkpoint of a model that you expect to be exactly identical (initializing a BertForSequenceClassification model from a BertForSequenceClassification model).\n"
     ]
    }
   ],
   "source": [
    "model = BertForMaskedLM.from_pretrained('bert-base-uncased')\n",
    "optimizer = torch.optim.AdamW(model.parameters(), lr=2e-5)\n"
   ]
  },
  {
   "cell_type": "code",
   "execution_count": null,
   "metadata": {
    "colab": {
     "base_uri": "https://localhost:8080/",
     "height": 54,
     "referenced_widgets": [
      "b8dbe56f7d804860b1f3f9508c7370f4",
      "5a85548867344032ac4a242a606e6984",
      "054edd0dab5d4c798ee6c54e93022c70",
      "869a91f7299d485f935b5b0d6d9b2f14",
      "79219a9292a94dcc87b654a181879a30",
      "b40aa3e9b73f4a869aaceeff33e62e84",
      "17f9cbffea9a4437b53f33bd45cb39f5",
      "edd71a6c1e494bc3b7dbb015942634b1",
      "b9c29dc0fa6d48a0b902e7788de48240",
      "3e7570f7169c48cc926adad1847442e2",
      "994b2a4d5c3c47088c36422df1faaed3",
      "7127e9f2a6964e1997213ed27a17a096",
      "909d8c427a5247f08a9b2112592961cb",
      "d69b0f65accc4538b7cd4f88ef03b5f4",
      "df3512ff49f948739c267cb0e04b9299",
      "e4dbbc5016e84353a8e4605996075828",
      "469e639ec4d944919a0e12b9cd8763b6",
      "e087ef496a584bd5910b73b491920086",
      "245ecb418f1041c680c6406949653b8c",
      "2834fc1e9db84a5b8a88aaf390afc375",
      "dd528885d5824a929fa5c0173933a6ec",
      "1d705c1541c54144b27edb1788e4a74a"
     ]
    },
    "id": "z6jEH8dBhRLN",
    "outputId": "e57ea41f-3a32-4a31-f2f2-7dcd87e6191e"
   },
   "outputs": [
    {
     "name": "stdout",
     "output_type": "stream",
     "text": [
      "Epoch: 1/1\n"
     ]
    },
    {
     "data": {
      "application/vnd.jupyter.widget-view+json": {
       "model_id": "b8dbe56f7d804860b1f3f9508c7370f4",
       "version_major": 2,
       "version_minor": 0
      },
      "text/plain": [
       "Training:   0%|          | 0/5735 [00:00<?, ?it/s]"
      ]
     },
     "metadata": {},
     "output_type": "display_data"
    },
    {
     "data": {
      "application/vnd.jupyter.widget-view+json": {
       "model_id": "7127e9f2a6964e1997213ed27a17a096",
       "version_major": 2,
       "version_minor": 0
      },
      "text/plain": [
       "Validation:   0%|          | 0/1992 [00:00<?, ?it/s]"
      ]
     },
     "metadata": {},
     "output_type": "display_data"
    },
    {
     "name": "stdout",
     "output_type": "stream",
     "text": [
      "Epoch: 1, Val Loss: 0.0071\n"
     ]
    }
   ],
   "source": [
    "from tqdm.notebook import tqdm\n",
    "EPOCHS = 1\n",
    "device = torch.device(\"cuda\" if torch.cuda.is_available() else \"cpu\")\n",
    "model.to(device)\n",
    "\n",
    "for epoch in range(EPOCHS):\n",
    "    print(f\"Epoch: {epoch + 1}/{EPOCHS}\")\n",
    "\n",
    "    # Тренировка\n",
    "    model.train()\n",
    "    train_progress_bar = tqdm(train_dataloader, desc=\"Training\", leave=False)\n",
    "    for batch in train_progress_bar:\n",
    "        input_ids, attention_mask, labels = batch\n",
    "        input_ids, attention_mask, labels = input_ids.to(device), attention_mask.to(device), labels.to(device)\n",
    "\n",
    "        optimizer.zero_grad()\n",
    "\n",
    "        outputs = model(input_ids, attention_mask=attention_mask, labels=labels)\n",
    "        loss = outputs.loss\n",
    "        train_progress_bar.set_postfix({'Training Loss': f'{loss.item():.4f}'})\n",
    "\n",
    "        loss.backward()\n",
    "        optimizer.step()\n",
    "    train_progress_bar.close()\n",
    "\n",
    "    # Валидация\n",
    "    model.eval()\n",
    "    val_loss = 0\n",
    "    val_progress_bar = tqdm(val_dataloader, desc=\"Validation\", leave=False)\n",
    "    with torch.no_grad():\n",
    "        for batch in val_progress_bar:\n",
    "            input_ids, attention_mask, labels = batch\n",
    "            input_ids, attention_mask, labels = input_ids.to(device), attention_mask.to(device), labels.to(device)\n",
    "\n",
    "            outputs = model(input_ids, attention_mask=attention_mask, labels=labels)\n",
    "            val_loss += outputs.loss.item()\n",
    "    val_progress_bar.close()\n",
    "\n",
    "    print(f\"Epoch: {epoch + 1}, Val Loss: {val_loss / val_size:.4f}\")\n"
   ]
  },
  {
   "cell_type": "code",
   "execution_count": null,
   "metadata": {
    "colab": {
     "base_uri": "https://localhost:8080/"
    },
    "id": "doQl3xn2XkFS",
    "outputId": "625a3951-25e7-4087-9ce7-25d6dc36e283"
   },
   "outputs": [
    {
     "data": {
      "text/plain": [
       "('fine_tuned_bert/tokenizer_config.json',\n",
       " 'fine_tuned_bert/special_tokens_map.json',\n",
       " 'fine_tuned_bert/vocab.txt',\n",
       " 'fine_tuned_bert/added_tokens.json')"
      ]
     },
     "execution_count": 16,
     "metadata": {},
     "output_type": "execute_result"
    }
   ],
   "source": [
    "model_path = \"fine_tuned_bert\"\n",
    "model.save_pretrained(model_path)\n",
    "tokenizer.save_pretrained(model_path)\n"
   ]
  },
  {
   "cell_type": "code",
   "execution_count": null,
   "metadata": {
    "id": "2psN92ttjlxR"
   },
   "outputs": [],
   "source": [
    "torch.cuda.empty_cache()"
   ]
  },
  {
   "cell_type": "markdown",
   "metadata": {
    "lang": "en"
   },
   "source": [
    "### Encoding"
   ]
  },
  {
   "cell_type": "markdown",
   "metadata": {
    "lang": "en"
   },
   "source": [
    "Now let’s do the coding using the retrained tokenizer and model"
   ]
  },
  {
   "cell_type": "code",
   "execution_count": null,
   "metadata": {
    "colab": {
     "base_uri": "https://localhost:8080/"
    },
    "id": "I03TqpAlpkM0",
    "outputId": "ed5eb563-63c1-4b0b-bf82-65e2d929da1d"
   },
   "outputs": [
    {
     "name": "stderr",
     "output_type": "stream",
     "text": [
      "Some weights of BertModel were not initialized from the model checkpoint at fine_tuned_bert and are newly initialized: ['bert.pooler.dense.weight', 'bert.pooler.dense.bias']\n",
      "You should probably TRAIN this model on a down-stream task to be able to use it for predictions and inference.\n"
     ]
    }
   ],
   "source": [
    "model = BertModel.from_pretrained(model_path, output_hidden_states=True)\n",
    "tokenizer = BertTokenizer.from_pretrained(model_path)"
   ]
  },
  {
   "cell_type": "code",
   "execution_count": null,
   "metadata": {
    "colab": {
     "base_uri": "https://localhost:8080/"
    },
    "id": "0CVgXyMkpAcO",
    "outputId": "4730753a-2770-401a-8946-9bae384fe2bc"
   },
   "outputs": [
    {
     "name": "stderr",
     "output_type": "stream",
     "text": [
      "Truncation was not explicitly activated but `max_length` is provided a specific value, please use `truncation=True` to explicitly truncate examples to max length. Defaulting to 'longest_first' truncation strategy. If you encode pairs of sequences (GLUE-style) with the tokenizer you can select this strategy more precisely by providing a specific strategy to `truncation`.\n",
      "/usr/local/lib/python3.10/dist-packages/transformers/tokenization_utils_base.py:2393: FutureWarning: The `pad_to_max_length` argument is deprecated and will be removed in a future version, use `padding=True` or `padding='longest'` to pad to the longest sequence in the batch, or use `padding='max_length'` to pad to a max length. In this case, you can give a specific length with `max_length` (e.g. `max_length=45`) or leave max_length to None to pad to the maximal input size of the model (e.g. 512 for Bert).\n",
      "  warnings.warn(\n"
     ]
    },
    {
     "name": "stdout",
     "output_type": "stream",
     "text": [
      "Оригинал:  Explanation\n",
      "Why the edits made under my username Hardcore Metallica Fan were reverted? They weren't vandalisms, just closure on some GAs after I voted at New York Dolls FAC. And please don't remove the template from the talk page since I'm retired now.89.205.38.27\n",
      "ID токенов: tensor([  101,  7526,  2339,  1996, 10086,  2015,  2081,  2104,  2026,  5310,\n",
      "        18442, 13076, 12392,  2050,  5470,  2020, 16407,  1029,  2027,  4694,\n",
      "         1005,  1056,  3158,  9305, 22556,  1010,  2074,  8503,  2006,  2070,\n",
      "         3806,  2044,  1045,  5444,  2012,  2047,  2259, 14421,  6904,  2278,\n",
      "         1012,  1998,  3531,  2123,  1005,  1056,  6366,  1996, 23561,  2013,\n",
      "         1996,  2831,  3931,  2144,  1045,  1005,  1049,  3394,  2085,  1012,\n",
      "         6486,  1012, 16327,  1012,  4229,  1012,  2676,   102,     0,     0,\n",
      "            0,     0,     0,     0,     0,     0,     0,     0,     0,     0,\n",
      "            0,     0,     0,     0,     0,     0,     0,     0,     0,     0,\n",
      "            0,     0,     0,     0,     0,     0,     0,     0,     0,     0,\n",
      "            0,     0,     0,     0,     0,     0,     0,     0,     0,     0,\n",
      "            0,     0,     0,     0,     0,     0,     0,     0,     0,     0,\n",
      "            0,     0,     0,     0,     0,     0,     0,     0,     0,     0,\n",
      "            0,     0,     0,     0,     0,     0,     0,     0,     0,     0,\n",
      "            0,     0,     0,     0,     0,     0,     0,     0,     0,     0,\n",
      "            0,     0,     0,     0,     0,     0,     0,     0,     0,     0,\n",
      "            0,     0,     0,     0,     0,     0,     0,     0,     0,     0,\n",
      "            0,     0,     0,     0,     0,     0,     0,     0,     0,     0,\n",
      "            0,     0,     0,     0,     0,     0,     0,     0,     0,     0,\n",
      "            0,     0,     0,     0,     0,     0,     0,     0,     0,     0,\n",
      "            0,     0,     0,     0,     0,     0,     0,     0,     0,     0,\n",
      "            0,     0,     0,     0,     0,     0,     0,     0,     0,     0,\n",
      "            0,     0,     0,     0,     0,     0,     0,     0,     0,     0,\n",
      "            0,     0,     0,     0,     0,     0,     0,     0,     0,     0,\n",
      "            0,     0,     0,     0,     0,     0,     0,     0,     0,     0,\n",
      "            0,     0,     0,     0,     0,     0,     0,     0,     0,     0,\n",
      "            0,     0,     0,     0,     0,     0,     0,     0,     0,     0,\n",
      "            0,     0,     0,     0,     0,     0,     0,     0,     0,     0,\n",
      "            0,     0,     0,     0,     0,     0,     0,     0,     0,     0,\n",
      "            0,     0,     0,     0,     0,     0,     0,     0,     0,     0,\n",
      "            0,     0,     0,     0,     0,     0,     0,     0,     0,     0,\n",
      "            0,     0,     0,     0,     0,     0,     0,     0,     0,     0,\n",
      "            0,     0,     0,     0,     0,     0,     0,     0,     0,     0,\n",
      "            0,     0,     0,     0,     0,     0,     0,     0,     0,     0,\n",
      "            0,     0,     0,     0,     0,     0,     0,     0,     0,     0,\n",
      "            0,     0,     0,     0,     0,     0,     0,     0,     0,     0,\n",
      "            0,     0,     0,     0,     0,     0,     0,     0,     0,     0,\n",
      "            0,     0,     0,     0,     0,     0,     0,     0,     0,     0,\n",
      "            0,     0,     0,     0,     0,     0,     0,     0,     0,     0,\n",
      "            0,     0,     0,     0,     0,     0,     0,     0,     0,     0,\n",
      "            0,     0,     0,     0,     0,     0,     0,     0,     0,     0,\n",
      "            0,     0,     0,     0,     0,     0,     0,     0,     0,     0,\n",
      "            0,     0,     0,     0,     0,     0,     0,     0,     0,     0,\n",
      "            0,     0,     0,     0,     0,     0,     0,     0,     0,     0,\n",
      "            0,     0,     0,     0,     0,     0,     0,     0,     0,     0,\n",
      "            0,     0,     0,     0,     0,     0,     0,     0,     0,     0,\n",
      "            0,     0,     0,     0,     0,     0,     0,     0,     0,     0,\n",
      "            0,     0,     0,     0,     0,     0,     0,     0,     0,     0,\n",
      "            0,     0,     0,     0,     0,     0,     0,     0,     0,     0,\n",
      "            0,     0,     0,     0,     0,     0,     0,     0,     0,     0,\n",
      "            0,     0,     0,     0,     0,     0,     0,     0,     0,     0,\n",
      "            0,     0])\n"
     ]
    },
    {
     "name": "stderr",
     "output_type": "stream",
     "text": [
      "<ipython-input-19-572fbd9ce2f3>:32: UserWarning: To copy construct from a tensor, it is recommended to use sourceTensor.clone().detach() or sourceTensor.clone().detach().requires_grad_(True), rather than torch.tensor(sourceTensor).\n",
      "  labels = torch.tensor(labels)\n"
     ]
    }
   ],
   "source": [
    "# Токенизировать все предложения и преобразовать токены в их ID слов.\n",
    "input_ids = []\n",
    "attention_masks = []\n",
    "\n",
    "\n",
    "for sent in sentences:\n",
    "    # `encode_plus` будет:\n",
    "    #   (1) Токенизировать предложение.\n",
    "    #   (2) Добавить токен `[CLS]` в начало.\n",
    "    #   (3) Добавить токен `[SEP]` в конец.\n",
    "    #   (4) Преобразовать токены в их ID.\n",
    "    #   (5) Дополнить или обрезать предложение до `max_length`\n",
    "    #   (6) Создать маски внимания для токенов [PAD].\n",
    "    encoded_dict = tokenizer.encode_plus(\n",
    "                        sent,                      # Текст для кодирования.\n",
    "                        add_special_tokens = True, # Добавить '[CLS]' и '[SEP]'\n",
    "                        max_length = 512,           # Дополнить & обрезать все предложения.\n",
    "                        pad_to_max_length = True,\n",
    "                        return_attention_mask = True,   # Создать маски внимания.\n",
    "                        return_tensors = 'pt',     # Возвращать тензоры PyTorch.\n",
    "                   )\n",
    "\n",
    "    # Добавить закодированное предложение в список.\n",
    "    input_ids.append(encoded_dict['input_ids'])\n",
    "\n",
    "    # И его маску внимания (просто различает дополнение от недополнения).\n",
    "    attention_masks.append(encoded_dict['attention_mask'])\n",
    "\n",
    "# Преобразовать списки в тензоры.\n",
    "input_ids = torch.cat(input_ids, dim=0)\n",
    "attention_masks = torch.cat(attention_masks, dim=0)\n",
    "labels = torch.tensor(labels)\n",
    "\n",
    "# Вывести предложение 0, теперь как список ID.\n",
    "print('Оригинал: ', sentences[0])\n",
    "print('ID токенов:', input_ids[0])\n"
   ]
  },
  {
   "cell_type": "code",
   "execution_count": null,
   "metadata": {
    "id": "NFe4OtfhqHx0"
   },
   "outputs": [],
   "source": [
    "features = input_ids"
   ]
  },
  {
   "cell_type": "code",
   "execution_count": null,
   "metadata": {
    "colab": {
     "base_uri": "https://localhost:8080/"
    },
    "id": "w7Wznr-WpAeV",
    "outputId": "52c23d02-c9f5-4a18-8ad6-cc0b5b07fa76"
   },
   "outputs": [
    {
     "name": "stdout",
     "output_type": "stream",
     "text": [
      "There are 1 GPU(s) available.\n",
      "Using GPU: NVIDIA A100-SXM4-40GB\n"
     ]
    },
    {
     "name": "stderr",
     "output_type": "stream",
     "text": [
      "100%|██████████| 796/796 [17:05<00:00,  1.29s/it]\n"
     ]
    }
   ],
   "source": [
    "# Проверяем наличие CUDA\n",
    "if torch.cuda.is_available():\n",
    "    device = torch.device(\"cuda\")\n",
    "    print('There are %d GPU(s) available.' % torch.cuda.device_count())\n",
    "    print('Using GPU:', torch.cuda.get_device_name(0))\n",
    "else:\n",
    "    print('No GPU available, using the CPU instead.')\n",
    "    device = torch.device(\"cpu\")\n",
    "\n",
    "# Переносим модель на GPU\n",
    "model.to(device)\n",
    "\n",
    "batch_size = 200\n",
    "embeddings = []\n",
    "\n",
    "# Итерируемся через данные\n",
    "for i in tqdm.tqdm(range((len(features) // batch_size))):\n",
    "        batch = torch.LongTensor(features[batch_size*i:batch_size*(i+1)]).to(device)\n",
    "        attention_mask_batch = torch.LongTensor(attention_masks[batch_size*i:batch_size*(i+1)]).to(device)\n",
    "\n",
    "        with torch.no_grad():\n",
    "            batch_embeddings = model(batch, attention_mask=attention_mask_batch)\n",
    "\n",
    "        embeddings.append(batch_embeddings[0][:,0,:].cpu().numpy())  # Переносим данные с GPU на CPU и конвертируем в NumPy\n",
    "features = np.concatenate(embeddings)"
   ]
  },
  {
   "cell_type": "code",
   "execution_count": null,
   "metadata": {
    "id": "2YGfYJUpj3hH"
   },
   "outputs": [],
   "source": [
    "torch.cuda.empty_cache()"
   ]
  },
  {
   "cell_type": "code",
   "execution_count": null,
   "metadata": {
    "id": "QgJPCvyAiTXo"
   },
   "outputs": [],
   "source": [
    "labels = data['toxic'][:len(features)]"
   ]
  },
  {
   "cell_type": "markdown",
   "metadata": {
    "lang": "en"
   },
   "source": [
    "## Training"
   ]
  },
  {
   "cell_type": "markdown",
   "metadata": {
    "lang": "en"
   },
   "source": [
    "### Neural network"
   ]
  },
  {
   "cell_type": "markdown",
   "metadata": {
    "lang": "en"
   },
   "source": [
    "Let's create a custom ToxicDataset for structuring embeddings and labels. With StratifiedShuffleSplit, data is divided into training, validation and test subsets while maintaining class relationships. A simple multilayer perceptron network is then created for classification. After setting the training parameters, the model is trained on the training dataset and its performance is tested on the validation data, outputting an F1 score after each epoch."
   ]
  },
  {
   "cell_type": "code",
   "execution_count": null,
   "metadata": {
    "colab": {
     "base_uri": "https://localhost:8080/"
    },
    "id": "RP-WPVu6J2om",
    "outputId": "258d76b4-34ed-4274-9e7e-e62325fa6130"
   },
   "outputs": [
    {
     "name": "stdout",
     "output_type": "stream",
     "text": [
      "Epoch: 1, F1 Score: 0.7257609036711641\n",
      "Epoch: 2, F1 Score: 0.7414590481873788\n",
      "Epoch: 3, F1 Score: 0.7349030914624379\n",
      "Epoch: 4, F1 Score: 0.7464723212901224\n",
      "Epoch: 5, F1 Score: 0.7534226409539231\n",
      "Epoch: 6, F1 Score: 0.7389067524115754\n",
      "Epoch: 7, F1 Score: 0.6861391396707383\n",
      "Epoch: 8, F1 Score: 0.7439535633666559\n",
      "Epoch: 9, F1 Score: 0.750822239624119\n",
      "Epoch: 10, F1 Score: 0.7412359367356922\n"
     ]
    }
   ],
   "source": [
    "# Создание PyTorch Dataset для эмбеддингов\n",
    "class ToxicDataset(Dataset):\n",
    "    def __init__(self, embeddings, labels):\n",
    "        self.embeddings = embeddings\n",
    "        self.labels = labels\n",
    "\n",
    "    def __len__(self):\n",
    "        return len(self.embeddings)\n",
    "\n",
    "    def __getitem__(self, idx):\n",
    "        return self.embeddings[idx], self.labels[idx]\n",
    "\n",
    "dataset = ToxicDataset(features, labels)  # Этот код определяет dataset\n",
    "\n",
    "# Разделение данных на train, valid и test с учетом стратификации\n",
    "sss1 = StratifiedShuffleSplit(n_splits=1, test_size=0.3, random_state=1234)\n",
    "sss2 = StratifiedShuffleSplit(n_splits=1, test_size=0.2857, random_state=1234)  # 0.2857 * 0.3 ≈ 0.2, для выделения 20% от исходных данных\n",
    "\n",
    "train_idx, temp_idx = next(sss1.split(features, labels[:len(features)]))\n",
    "valid_idx, test_idx = next(sss2.split(features[temp_idx], labels[temp_idx]))\n",
    "\n",
    "\n",
    "train_dataset = Subset(dataset, train_idx)\n",
    "valid_dataset = Subset(dataset, valid_idx)\n",
    "test_dataset = Subset(dataset, test_idx)\n",
    "\n",
    "train_loader = DataLoader(train_dataset, shuffle=True, batch_size=50)\n",
    "valid_loader = DataLoader(valid_dataset, batch_size=50)\n",
    "test_loader = DataLoader(test_dataset, batch_size=50)\n",
    "\n",
    "# Определение простой последовательной сети\n",
    "embedding_dim = features.shape[1]\n",
    "model = nn.Sequential(\n",
    "    nn.Linear(embedding_dim, 256),\n",
    "    nn.ReLU(),                                   # Функция активации ReLU\n",
    "    nn.Dropout(p=0.3),\n",
    "    nn.Linear(256, 128),                         # Еще один полносвязный слой (вход 256, выход 128)\n",
    "    nn.ReLU(),                                   # Функция активации ReLU\n",
    "    nn.Linear(128, 2),                           # Выходной слой с двумя нейронами (для бинарной классификации)\n",
    ")\n",
    "\n",
    "device = torch.device(\"cuda\" if torch.cuda.is_available() else \"cpu\")\n",
    "model = model.to(device)\n",
    "optimizer = optim.Adam(model.parameters(), lr=0.001)\n",
    "criterion = nn.CrossEntropyLoss()\n",
    "\n",
    "# Обучение сети\n",
    "epochs = 10\n",
    "for epoch in range(epochs):\n",
    "    model.train()\n",
    "    for embeddings, labels in train_loader:\n",
    "        embeddings = embeddings.to(device)\n",
    "        labels = labels.to(device)\n",
    "\n",
    "        optimizer.zero_grad()\n",
    "        outputs = model(embeddings.float())\n",
    "        loss = criterion(outputs, labels)\n",
    "        loss.backward()\n",
    "        optimizer.step()\n",
    "\n",
    "    # Валидация\n",
    "    model.eval()\n",
    "    preds = []\n",
    "    true = []\n",
    "    for embeddings, labels in valid_loader:\n",
    "        embeddings = embeddings.to(device)\n",
    "        labels = labels.to(device)\n",
    "\n",
    "        with torch.no_grad():\n",
    "            outputs = model(embeddings.float())\n",
    "            _, pred = torch.max(outputs, dim=1)\n",
    "            preds.extend(pred.cpu().numpy())\n",
    "            true.extend(labels.cpu().numpy())\n",
    "\n",
    "    print(f'Epoch: {epoch + 1}, F1 Score: {f1_score(true, preds)}')\n"
   ]
  },
  {
   "cell_type": "code",
   "execution_count": null,
   "metadata": {
    "id": "eyTXk9n3j7mY"
   },
   "outputs": [],
   "source": [
    "torch.cuda.empty_cache()"
   ]
  },
  {
   "cell_type": "markdown",
   "metadata": {
    "lang": "en"
   },
   "source": [
    "### Classic ML models"
   ]
  },
  {
   "cell_type": "code",
   "execution_count": null,
   "metadata": {
    "id": "0k_OYMHltSxs"
   },
   "outputs": [],
   "source": [
    "features_train, features_test, target_train, target_test = train_test_split(features, data['toxic'].loc[:len(dataset)-1], stratify=data['toxic'].loc[:len(dataset)-1], random_state=1234, test_size=0.2)"
   ]
  },
  {
   "cell_type": "markdown",
   "metadata": {
    "id": "StCgab7pupPC"
   },
   "source": [
    "#### CatBoost"
   ]
  },
  {
   "cell_type": "code",
   "execution_count": null,
   "metadata": {
    "colab": {
     "base_uri": "https://localhost:8080/"
    },
    "id": "eYmfoEaDotik",
    "outputId": "6b6dbc54-671c-4333-c0c3-c78e44c11630",
    "scrolled": false
   },
   "outputs": [
    {
     "name": "stdout",
     "output_type": "stream",
     "text": [
      "0:\tlearn: 0.6547908\ttest: 0.6549649\tbest: 0.6549649 (0)\ttotal: 109ms\tremaining: 1m 48s\n",
      "500:\tlearn: 0.1352889\ttest: 0.1437576\tbest: 0.1437576 (500)\ttotal: 26.7s\tremaining: 26.6s\n",
      "999:\tlearn: 0.1205966\ttest: 0.1372606\tbest: 0.1372606 (999)\ttotal: 51.7s\tremaining: 0us\n",
      "\n",
      "bestTest = 0.137260578\n",
      "bestIteration = 999\n",
      "\n",
      "0:\tloss: 0.1372606\tbest: 0.1372606 (0)\ttotal: 53.6s\tremaining: 9m 49s\n",
      "0:\tlearn: 0.5739157\ttest: 0.5743333\tbest: 0.5743333 (0)\ttotal: 52.1ms\tremaining: 52s\n",
      "500:\tlearn: 0.1082862\ttest: 0.1341436\tbest: 0.1341436 (500)\ttotal: 25.8s\tremaining: 25.7s\n",
      "999:\tlearn: 0.0857593\ttest: 0.1308572\tbest: 0.1308572 (999)\ttotal: 48.8s\tremaining: 0us\n",
      "\n",
      "bestTest = 0.1308572194\n",
      "bestIteration = 999\n",
      "\n",
      "1:\tloss: 0.1308572\tbest: 0.1308572 (1)\ttotal: 1m 42s\tremaining: 8m 32s\n",
      "0:\tlearn: 0.6547907\ttest: 0.6549650\tbest: 0.6549650 (0)\ttotal: 55.8ms\tremaining: 55.8s\n",
      "500:\tlearn: 0.1354420\ttest: 0.1438275\tbest: 0.1438275 (500)\ttotal: 27.1s\tremaining: 27s\n",
      "999:\tlearn: 0.1207988\ttest: 0.1372616\tbest: 0.1372616 (999)\ttotal: 51.9s\tremaining: 0us\n",
      "\n",
      "bestTest = 0.1372615839\n",
      "bestIteration = 999\n",
      "\n",
      "2:\tloss: 0.1372616\tbest: 0.1308572 (1)\ttotal: 2m 34s\tremaining: 7m 43s\n",
      "0:\tlearn: 0.5739148\ttest: 0.5743335\tbest: 0.5743335 (0)\ttotal: 61.7ms\tremaining: 1m 1s\n",
      "500:\tlearn: 0.1081173\ttest: 0.1339673\tbest: 0.1339673 (500)\ttotal: 25.8s\tremaining: 25.7s\n",
      "999:\tlearn: 0.0856428\ttest: 0.1308421\tbest: 0.1308421 (999)\ttotal: 49.8s\tremaining: 0us\n",
      "\n",
      "bestTest = 0.1308421459\n",
      "bestIteration = 999\n",
      "\n",
      "3:\tloss: 0.1308421\tbest: 0.1308421 (3)\ttotal: 3m 24s\tremaining: 6m 48s\n",
      "0:\tlearn: 0.6547907\ttest: 0.6549651\tbest: 0.6549651 (0)\ttotal: 50.7ms\tremaining: 50.6s\n",
      "500:\tlearn: 0.1353796\ttest: 0.1436943\tbest: 0.1436943 (500)\ttotal: 27.1s\tremaining: 27s\n",
      "999:\tlearn: 0.1207786\ttest: 0.1372071\tbest: 0.1372071 (999)\ttotal: 51.3s\tremaining: 0us\n",
      "\n",
      "bestTest = 0.1372071347\n",
      "bestIteration = 999\n",
      "\n",
      "4:\tloss: 0.1372071\tbest: 0.1308421 (3)\ttotal: 4m 15s\tremaining: 5m 57s\n",
      "0:\tlearn: 0.5739148\ttest: 0.5743337\tbest: 0.5743337 (0)\ttotal: 51.3ms\tremaining: 51.3s\n",
      "500:\tlearn: 0.1081074\ttest: 0.1334021\tbest: 0.1333889 (499)\ttotal: 25.6s\tremaining: 25.5s\n",
      "999:\tlearn: 0.0859572\ttest: 0.1301260\tbest: 0.1301228 (997)\ttotal: 50.3s\tremaining: 0us\n",
      "\n",
      "bestTest = 0.1301227778\n",
      "bestIteration = 997\n",
      "\n",
      "5:\tloss: 0.1301228\tbest: 0.1301228 (5)\ttotal: 5m 5s\tremaining: 5m 5s\n",
      "0:\tlearn: 0.6525884\ttest: 0.6527547\tbest: 0.6527547 (0)\ttotal: 111ms\tremaining: 1m 50s\n",
      "500:\tlearn: 0.1224394\ttest: 0.1392306\tbest: 0.1392306 (500)\ttotal: 44.5s\tremaining: 44.3s\n",
      "999:\tlearn: 0.1007699\ttest: 0.1338961\tbest: 0.1338961 (999)\ttotal: 1m 24s\tremaining: 0us\n",
      "\n",
      "bestTest = 0.1338960508\n",
      "bestIteration = 999\n",
      "\n",
      "6:\tloss: 0.1338961\tbest: 0.1301228 (5)\ttotal: 6m 31s\tremaining: 4m 39s\n",
      "0:\tlearn: 0.5674804\ttest: 0.5678505\tbest: 0.5678505 (0)\ttotal: 93.6ms\tremaining: 1m 33s\n",
      "500:\tlearn: 0.0820453\ttest: 0.1327209\tbest: 0.1327209 (500)\ttotal: 42.2s\tremaining: 42.1s\n",
      "999:\tlearn: 0.0526714\ttest: 0.1309494\tbest: 0.1309012 (997)\ttotal: 1m 21s\tremaining: 0us\n",
      "\n",
      "bestTest = 0.1309011761\n",
      "bestIteration = 997\n",
      "\n",
      "7:\tloss: 0.1309012\tbest: 0.1301228 (5)\ttotal: 7m 52s\tremaining: 3m 56s\n",
      "0:\tlearn: 0.6525884\ttest: 0.6527547\tbest: 0.6527547 (0)\ttotal: 110ms\tremaining: 1m 50s\n",
      "500:\tlearn: 0.1226395\ttest: 0.1391935\tbest: 0.1391935 (500)\ttotal: 44.8s\tremaining: 44.6s\n",
      "999:\tlearn: 0.1013265\ttest: 0.1338219\tbest: 0.1338219 (999)\ttotal: 1m 25s\tremaining: 0us\n",
      "\n",
      "bestTest = 0.1338219076\n",
      "bestIteration = 999\n",
      "\n",
      "8:\tloss: 0.1338219\tbest: 0.1301228 (5)\ttotal: 9m 17s\tremaining: 3m 5s\n",
      "0:\tlearn: 0.5674804\ttest: 0.5678505\tbest: 0.5678505 (0)\ttotal: 94.6ms\tremaining: 1m 34s\n",
      "500:\tlearn: 0.0823114\ttest: 0.1319430\tbest: 0.1319258 (498)\ttotal: 42.1s\tremaining: 42s\n",
      "999:\tlearn: 0.0531053\ttest: 0.1304599\tbest: 0.1303622 (797)\ttotal: 1m 22s\tremaining: 0us\n",
      "\n",
      "bestTest = 0.1303621909\n",
      "bestIteration = 797\n",
      "\n",
      "9:\tloss: 0.1303622\tbest: 0.1301228 (5)\ttotal: 10m 39s\tremaining: 2m 7s\n",
      "0:\tlearn: 0.6525884\ttest: 0.6527547\tbest: 0.6527547 (0)\ttotal: 94.4ms\tremaining: 1m 34s\n",
      "500:\tlearn: 0.1229306\ttest: 0.1385955\tbest: 0.1385955 (500)\ttotal: 45.6s\tremaining: 45.4s\n",
      "999:\tlearn: 0.1016088\ttest: 0.1332695\tbest: 0.1332652 (998)\ttotal: 1m 26s\tremaining: 0us\n",
      "\n",
      "bestTest = 0.1332651944\n",
      "bestIteration = 998\n",
      "\n",
      "10:\tloss: 0.1332652\tbest: 0.1301228 (5)\ttotal: 12m 6s\tremaining: 1m 6s\n",
      "0:\tlearn: 0.5674804\ttest: 0.5678505\tbest: 0.5678505 (0)\ttotal: 106ms\tremaining: 1m 45s\n",
      "500:\tlearn: 0.0830919\ttest: 0.1325530\tbest: 0.1325328 (496)\ttotal: 42.1s\tremaining: 41.9s\n",
      "999:\tlearn: 0.0534296\ttest: 0.1302519\tbest: 0.1300775 (969)\ttotal: 1m 23s\tremaining: 0us\n",
      "\n",
      "bestTest = 0.130077488\n",
      "bestIteration = 969\n",
      "\n",
      "11:\tloss: 0.1300775\tbest: 0.1300775 (11)\ttotal: 13m 29s\tremaining: 0us\n",
      "Estimating final quality...\n",
      "Training on fold [0/2]\n",
      "0:\tlearn: 0.5687343\ttest: 0.5686408\tbest: 0.5686408 (0)\ttotal: 73.2ms\tremaining: 1m 13s\n",
      "500:\tlearn: 0.0680009\ttest: 0.1325779\tbest: 0.1325779 (500)\ttotal: 33.7s\tremaining: 33.6s\n",
      "999:\tlearn: 0.0378076\ttest: 0.1319925\tbest: 0.1316662 (871)\ttotal: 1m 6s\tremaining: 0us\n",
      "\n",
      "bestTest = 0.131666224\n",
      "bestIteration = 871\n",
      "\n",
      "Training on fold [1/2]\n",
      "0:\tlearn: 0.5702466\ttest: 0.5706377\tbest: 0.5706377 (0)\ttotal: 90.7ms\tremaining: 1m 30s\n",
      "500:\tlearn: 0.0696276\ttest: 0.1337329\tbest: 0.1337248 (498)\ttotal: 34.8s\tremaining: 34.6s\n",
      "999:\tlearn: 0.0388982\ttest: 0.1332595\tbest: 0.1326239 (803)\ttotal: 1m 7s\tremaining: 0us\n",
      "\n",
      "bestTest = 0.1326238722\n",
      "bestIteration = 803\n",
      "\n",
      "Best parameters found:  {'depth': 6, 'l2_leaf_reg': 5, 'learning_rate': 0.1}\n",
      "0:\tlearn: 0.5638616\ttotal: 103ms\tremaining: 1m 42s\n",
      "500:\tlearn: 0.0896292\ttotal: 45.2s\tremaining: 45s\n",
      "999:\tlearn: 0.0611729\ttotal: 1m 28s\tremaining: 0us\n",
      "CatBoost F1 Score on Train Set: 0.9088123240019877\n"
     ]
    }
   ],
   "source": [
    "train_pool = Pool(features_train, target_train)\n",
    "\n",
    "# 2. Перебор гиперпараметров\n",
    "grid = {\n",
    "    'learning_rate': [0.03, 0.1],\n",
    "    'depth': [4, 6],\n",
    "    'l2_leaf_reg': [1, 3, 5]\n",
    "}\n",
    "\n",
    "catboost_clf = CatBoostClassifier(iterations=1000, verbose=500, custom_loss=['F1'])\n",
    "\n",
    "# Поиск по сетке с кросс-валидацией\n",
    "result = catboost_clf.grid_search(grid,\n",
    "                                  X=train_pool,\n",
    "                                  cv=2,   # Количество фолдов для кросс-валидации\n",
    "                                  verbose=True,\n",
    "                                  plot=False,\n",
    "                                  refit=False,  # refit=True гарантирует, что лучшая модель будет обучена на всем наборе данных\n",
    "                                  search_by_train_test_ratio=True,\n",
    "                                  partition_random_seed=42)\n",
    "\n",
    "best_score = result['cv_results']['test-F1-mean'][result['params']['iterations']]\n",
    "print(\"Best parameters found: \", result['params'])\n",
    "print(\"Best Score (F1):\", best_score)\n"
   ]
  },
  {
   "cell_type": "markdown",
   "metadata": {
    "id": "1zsZ0u2Wutp2"
   },
   "source": [
    "#### Logistic Regression"
   ]
  },
  {
   "cell_type": "code",
   "execution_count": null,
   "metadata": {
    "colab": {
     "base_uri": "https://localhost:8080/"
    },
    "id": "ExSXM2BSJ2qk",
    "outputId": "ec74f723-9ab3-4062-e6d8-8e963daf8710"
   },
   "outputs": [
    {
     "name": "stdout",
     "output_type": "stream",
     "text": [
      "Fitting 2 folds for each of 6 candidates, totalling 12 fits\n",
      "[CV 1/2] END C=0.1, penalty=l1, solver=liblinear;, score=0.736 total time=  48.1s\n",
      "[CV 2/2] END C=0.1, penalty=l1, solver=liblinear;, score=0.726 total time=  46.9s\n",
      "[CV 1/2] END C=0.1, penalty=l2, solver=liblinear;, score=0.753 total time=  20.7s\n",
      "[CV 2/2] END C=0.1, penalty=l2, solver=liblinear;, score=0.741 total time=  20.0s\n",
      "[CV 1/2] END .C=1, penalty=l1, solver=liblinear;, score=0.762 total time= 3.6min\n",
      "[CV 2/2] END .C=1, penalty=l1, solver=liblinear;, score=0.750 total time= 3.5min\n",
      "[CV 1/2] END .C=1, penalty=l2, solver=liblinear;, score=0.763 total time=  33.7s\n",
      "[CV 2/2] END .C=1, penalty=l2, solver=liblinear;, score=0.751 total time=  32.9s\n",
      "[CV 1/2] END C=100, penalty=l1, solver=liblinear;, score=0.761 total time= 5.9min\n",
      "[CV 2/2] END C=100, penalty=l1, solver=liblinear;, score=0.750 total time= 6.1min\n",
      "[CV 1/2] END C=100, penalty=l2, solver=liblinear;, score=0.761 total time=  35.8s\n",
      "[CV 2/2] END C=100, penalty=l2, solver=liblinear;, score=0.749 total time=  56.2s\n",
      "Logistic Regression Best Parameters: {'C': 1, 'penalty': 'l2', 'solver': 'liblinear'}\n",
      "Logistic Regression F1 Score: 0.77068497795863\n"
     ]
    }
   ],
   "source": [
    "# Определение параметров для перебора\n",
    "param_grid = {\n",
    "      'C': [0.1, 1, 100], # Обратный коэффициент регуляризации\n",
    "      'penalty': ['l1', 'l2'], # Тип регуляризации\n",
    "      'solver': ['liblinear'] # Solver, который поддерживает L1 и L2 регуляризацию\n",
    "}\n",
    "\n",
    "# Инициализация GridSearchCV\n",
    "grid_search = GridSearchCV(LogisticRegression(max_iter=1000), param_grid, scoring='f1', cv=2, verbose=3, n_jobs=-1)\n",
    "\n",
    "# Обучение модели на обучающем наборе\n",
    "grid_search.fit(features_train, target_train)\n",
    "\n",
    "# Получение лучших параметров и лучшего оценщика\n",
    "best_params = grid_search.best_params_\n",
    "best_f1 = grid_search.best_score_\n",
    "best_estimator = grid_search.best_estimator\n",
    "\n",
    "print(f\"Logistic Regression Best Parameters: {best_params}\")\n",
    "print(f\"Logistic Regression F1 Score (from GridSearchCV): {best_f1}\")\n",
    "\n"
   ]
  },
  {
   "cell_type": "markdown",
   "metadata": {
    "lang": "en"
   },
   "source": [
    "## Test scoring"
   ]
  },
  {
   "cell_type": "markdown",
   "metadata": {
    "lang": "en"
   },
   "source": [
    "### Neural network"
   ]
  },
  {
   "cell_type": "code",
   "execution_count": null,
   "metadata": {
    "colab": {
     "base_uri": "https://localhost:8080/"
    },
    "id": "Fg90opaLrWWB",
    "outputId": "e3d481aa-f3bd-4287-aa67-960edfa9fe0a"
   },
   "outputs": [
    {
     "name": "stdout",
     "output_type": "stream",
     "text": [
      "Test F1 Score: 0.7703150912106136\n"
     ]
    }
   ],
   "source": [
    "# Предсказание на тестовой выборке\n",
    "model.eval()\n",
    "preds_test = []\n",
    "true_test = []\n",
    "for embeddings, labels in test_loader:\n",
    "    embeddings = embeddings.to(device)\n",
    "    labels = labels.to(device)\n",
    "\n",
    "    with torch.no_grad():\n",
    "        outputs = model(embeddings.float())\n",
    "        _, pred = torch.max(outputs, dim=1)\n",
    "        preds_test.extend(pred.cpu().numpy())\n",
    "        true_test.extend(labels.cpu().numpy())\n",
    "\n",
    "print(f'Test F1 Score: {f1_score(true_test, preds_test)}')"
   ]
  },
  {
   "cell_type": "markdown",
   "metadata": {
    "id": "XbycGEaKrGZ3"
   },
   "source": [
    "### CatBoost"
   ]
  },
  {
   "cell_type": "code",
   "execution_count": null,
   "metadata": {
    "colab": {
     "base_uri": "https://localhost:8080/"
    },
    "id": "S8Zmrxyrqvya",
    "outputId": "f20c8963-fe2a-43a3-f2dd-b868c5c4cfb4"
   },
   "outputs": [
    {
     "name": "stdout",
     "output_type": "stream",
     "text": [
      "0:\tlearn: 0.5638616\ttotal: 109ms\tremaining: 1m 48s\n",
      "500:\tlearn: 0.0896292\ttotal: 47.6s\tremaining: 47.4s\n",
      "999:\tlearn: 0.0611729\ttotal: 1m 36s\tremaining: 0us\n",
      "Test F1 Score: 0.7392955801104972\n"
     ]
    }
   ],
   "source": [
    "model_cb = CatBoostClassifier(iterations=1000, verbose=500, **result['params'])\n",
    "model_cb.fit(features_train, target_train)\n",
    "preds_cb = model_cb.predict(features_test)\n",
    "print(f'Test F1 Score: {f1_score(target_test, preds_cb)}')"
   ]
  },
  {
   "cell_type": "markdown",
   "metadata": {
    "id": "GaqkpJ0YrKTO"
   },
   "source": [
    "### Logistic Regression"
   ]
  },
  {
   "cell_type": "code",
   "execution_count": null,
   "metadata": {
    "colab": {
     "base_uri": "https://localhost:8080/"
    },
    "id": "0CjDhU4Wqv0Z",
    "outputId": "f3d8fa2d-a08f-4b8e-861e-a4cbb7ea330e"
   },
   "outputs": [
    {
     "name": "stdout",
     "output_type": "stream",
     "text": [
      "Test F1 Score: 0.7648648648648648\n"
     ]
    }
   ],
   "source": [
    "model_lr = LogisticRegression(max_iter=1000, **best_params)\n",
    "model_lr.fit(features_train, target_train)\n",
    "preds_lr = model_lr.predict(features_test)\n",
    "print(f'Test F1 Score: {f1_score(target_test, preds_lr)}')"
   ]
  },
  {
   "cell_type": "markdown",
   "metadata": {
    "lang": "en"
   },
   "source": [
    "## Conclusion"
   ]
  },
  {
   "cell_type": "markdown",
   "metadata": {
    "lang": "en"
   },
   "source": [
    "As part of this project, a model was developed for the Wikishop online store that can identify toxic comments in product descriptions. This is especially important given the new functionality that allows users to make and comment changes to descriptions, similar to what is done in wiki communities. Thanks to the use of modern deep learning methods and data representation in the form of embeddings, we were able to create an effective model that went through the stages of training and validation. Thus, Wikishop now has a tool that automatically highlights potentially toxic comments for further moderation."
   ]
  }
 ],
 "metadata": {
  "accelerator": "GPU",
  "colab": {
   "gpuType": "A100",
   "provenance": [],
   "toc_visible": true
  },
  "kernelspec": {
   "display_name": "Python 3 (ipykernel)",
   "language": "python",
   "name": "python3"
  },
  "language_info": {
   "codemirror_mode": {
    "name": "ipython",
    "version": 3
   },
   "file_extension": ".py",
   "mimetype": "text/x-python",
   "name": "python",
   "nbconvert_exporter": "python",
   "pygments_lexer": "ipython3",
   "version": "3.9.13"
  },
  "nbTranslate": {
   "displayLangs": [
    "*"
   ],
   "hotkey": "alt-t",
   "langInMainMenu": true,
   "sourceLang": "ru",
   "targetLang": "en",
   "useGoogleTranslate": true
  },
  "toc": {
   "base_numbering": 1,
   "nav_menu": {},
   "number_sections": true,
   "sideBar": true,
   "skip_h1_title": true,
   "title_cell": "Table of Contents",
   "title_sidebar": "Contents",
   "toc_cell": false,
   "toc_position": {},
   "toc_section_display": true,
   "toc_window_display": false
  },
  "widgets": {
   "application/vnd.jupyter.widget-state+json": {
    "054edd0dab5d4c798ee6c54e93022c70": {
     "model_module": "@jupyter-widgets/controls",
     "model_module_version": "1.5.0",
     "model_name": "FloatProgressModel",
     "state": {
      "_dom_classes": [],
      "_model_module": "@jupyter-widgets/controls",
      "_model_module_version": "1.5.0",
      "_model_name": "FloatProgressModel",
      "_view_count": null,
      "_view_module": "@jupyter-widgets/controls",
      "_view_module_version": "1.5.0",
      "_view_name": "ProgressView",
      "bar_style": "",
      "description": "",
      "description_tooltip": null,
      "layout": "IPY_MODEL_edd71a6c1e494bc3b7dbb015942634b1",
      "max": 5735,
      "min": 0,
      "orientation": "horizontal",
      "style": "IPY_MODEL_b9c29dc0fa6d48a0b902e7788de48240",
      "value": 5735
     }
    },
    "17f9cbffea9a4437b53f33bd45cb39f5": {
     "model_module": "@jupyter-widgets/controls",
     "model_module_version": "1.5.0",
     "model_name": "DescriptionStyleModel",
     "state": {
      "_model_module": "@jupyter-widgets/controls",
      "_model_module_version": "1.5.0",
      "_model_name": "DescriptionStyleModel",
      "_view_count": null,
      "_view_module": "@jupyter-widgets/base",
      "_view_module_version": "1.2.0",
      "_view_name": "StyleView",
      "description_width": ""
     }
    },
    "1d705c1541c54144b27edb1788e4a74a": {
     "model_module": "@jupyter-widgets/controls",
     "model_module_version": "1.5.0",
     "model_name": "DescriptionStyleModel",
     "state": {
      "_model_module": "@jupyter-widgets/controls",
      "_model_module_version": "1.5.0",
      "_model_name": "DescriptionStyleModel",
      "_view_count": null,
      "_view_module": "@jupyter-widgets/base",
      "_view_module_version": "1.2.0",
      "_view_name": "StyleView",
      "description_width": ""
     }
    },
    "245ecb418f1041c680c6406949653b8c": {
     "model_module": "@jupyter-widgets/base",
     "model_module_version": "1.2.0",
     "model_name": "LayoutModel",
     "state": {
      "_model_module": "@jupyter-widgets/base",
      "_model_module_version": "1.2.0",
      "_model_name": "LayoutModel",
      "_view_count": null,
      "_view_module": "@jupyter-widgets/base",
      "_view_module_version": "1.2.0",
      "_view_name": "LayoutView",
      "align_content": null,
      "align_items": null,
      "align_self": null,
      "border": null,
      "bottom": null,
      "display": null,
      "flex": null,
      "flex_flow": null,
      "grid_area": null,
      "grid_auto_columns": null,
      "grid_auto_flow": null,
      "grid_auto_rows": null,
      "grid_column": null,
      "grid_gap": null,
      "grid_row": null,
      "grid_template_areas": null,
      "grid_template_columns": null,
      "grid_template_rows": null,
      "height": null,
      "justify_content": null,
      "justify_items": null,
      "left": null,
      "margin": null,
      "max_height": null,
      "max_width": null,
      "min_height": null,
      "min_width": null,
      "object_fit": null,
      "object_position": null,
      "order": null,
      "overflow": null,
      "overflow_x": null,
      "overflow_y": null,
      "padding": null,
      "right": null,
      "top": null,
      "visibility": null,
      "width": null
     }
    },
    "2834fc1e9db84a5b8a88aaf390afc375": {
     "model_module": "@jupyter-widgets/controls",
     "model_module_version": "1.5.0",
     "model_name": "ProgressStyleModel",
     "state": {
      "_model_module": "@jupyter-widgets/controls",
      "_model_module_version": "1.5.0",
      "_model_name": "ProgressStyleModel",
      "_view_count": null,
      "_view_module": "@jupyter-widgets/base",
      "_view_module_version": "1.2.0",
      "_view_name": "StyleView",
      "bar_color": null,
      "description_width": ""
     }
    },
    "3e7570f7169c48cc926adad1847442e2": {
     "model_module": "@jupyter-widgets/base",
     "model_module_version": "1.2.0",
     "model_name": "LayoutModel",
     "state": {
      "_model_module": "@jupyter-widgets/base",
      "_model_module_version": "1.2.0",
      "_model_name": "LayoutModel",
      "_view_count": null,
      "_view_module": "@jupyter-widgets/base",
      "_view_module_version": "1.2.0",
      "_view_name": "LayoutView",
      "align_content": null,
      "align_items": null,
      "align_self": null,
      "border": null,
      "bottom": null,
      "display": null,
      "flex": null,
      "flex_flow": null,
      "grid_area": null,
      "grid_auto_columns": null,
      "grid_auto_flow": null,
      "grid_auto_rows": null,
      "grid_column": null,
      "grid_gap": null,
      "grid_row": null,
      "grid_template_areas": null,
      "grid_template_columns": null,
      "grid_template_rows": null,
      "height": null,
      "justify_content": null,
      "justify_items": null,
      "left": null,
      "margin": null,
      "max_height": null,
      "max_width": null,
      "min_height": null,
      "min_width": null,
      "object_fit": null,
      "object_position": null,
      "order": null,
      "overflow": null,
      "overflow_x": null,
      "overflow_y": null,
      "padding": null,
      "right": null,
      "top": null,
      "visibility": null,
      "width": null
     }
    },
    "469e639ec4d944919a0e12b9cd8763b6": {
     "model_module": "@jupyter-widgets/base",
     "model_module_version": "1.2.0",
     "model_name": "LayoutModel",
     "state": {
      "_model_module": "@jupyter-widgets/base",
      "_model_module_version": "1.2.0",
      "_model_name": "LayoutModel",
      "_view_count": null,
      "_view_module": "@jupyter-widgets/base",
      "_view_module_version": "1.2.0",
      "_view_name": "LayoutView",
      "align_content": null,
      "align_items": null,
      "align_self": null,
      "border": null,
      "bottom": null,
      "display": null,
      "flex": null,
      "flex_flow": null,
      "grid_area": null,
      "grid_auto_columns": null,
      "grid_auto_flow": null,
      "grid_auto_rows": null,
      "grid_column": null,
      "grid_gap": null,
      "grid_row": null,
      "grid_template_areas": null,
      "grid_template_columns": null,
      "grid_template_rows": null,
      "height": null,
      "justify_content": null,
      "justify_items": null,
      "left": null,
      "margin": null,
      "max_height": null,
      "max_width": null,
      "min_height": null,
      "min_width": null,
      "object_fit": null,
      "object_position": null,
      "order": null,
      "overflow": null,
      "overflow_x": null,
      "overflow_y": null,
      "padding": null,
      "right": null,
      "top": null,
      "visibility": null,
      "width": null
     }
    },
    "5a85548867344032ac4a242a606e6984": {
     "model_module": "@jupyter-widgets/controls",
     "model_module_version": "1.5.0",
     "model_name": "HTMLModel",
     "state": {
      "_dom_classes": [],
      "_model_module": "@jupyter-widgets/controls",
      "_model_module_version": "1.5.0",
      "_model_name": "HTMLModel",
      "_view_count": null,
      "_view_module": "@jupyter-widgets/controls",
      "_view_module_version": "1.5.0",
      "_view_name": "HTMLView",
      "description": "",
      "description_tooltip": null,
      "layout": "IPY_MODEL_b40aa3e9b73f4a869aaceeff33e62e84",
      "placeholder": "​",
      "style": "IPY_MODEL_17f9cbffea9a4437b53f33bd45cb39f5",
      "value": "Training: 100%"
     }
    },
    "7127e9f2a6964e1997213ed27a17a096": {
     "model_module": "@jupyter-widgets/controls",
     "model_module_version": "1.5.0",
     "model_name": "HBoxModel",
     "state": {
      "_dom_classes": [],
      "_model_module": "@jupyter-widgets/controls",
      "_model_module_version": "1.5.0",
      "_model_name": "HBoxModel",
      "_view_count": null,
      "_view_module": "@jupyter-widgets/controls",
      "_view_module_version": "1.5.0",
      "_view_name": "HBoxView",
      "box_style": "",
      "children": [
       "IPY_MODEL_909d8c427a5247f08a9b2112592961cb",
       "IPY_MODEL_d69b0f65accc4538b7cd4f88ef03b5f4",
       "IPY_MODEL_df3512ff49f948739c267cb0e04b9299"
      ],
      "layout": "IPY_MODEL_e4dbbc5016e84353a8e4605996075828"
     }
    },
    "79219a9292a94dcc87b654a181879a30": {
     "model_module": "@jupyter-widgets/base",
     "model_module_version": "1.2.0",
     "model_name": "LayoutModel",
     "state": {
      "_model_module": "@jupyter-widgets/base",
      "_model_module_version": "1.2.0",
      "_model_name": "LayoutModel",
      "_view_count": null,
      "_view_module": "@jupyter-widgets/base",
      "_view_module_version": "1.2.0",
      "_view_name": "LayoutView",
      "align_content": null,
      "align_items": null,
      "align_self": null,
      "border": null,
      "bottom": null,
      "display": null,
      "flex": null,
      "flex_flow": null,
      "grid_area": null,
      "grid_auto_columns": null,
      "grid_auto_flow": null,
      "grid_auto_rows": null,
      "grid_column": null,
      "grid_gap": null,
      "grid_row": null,
      "grid_template_areas": null,
      "grid_template_columns": null,
      "grid_template_rows": null,
      "height": null,
      "justify_content": null,
      "justify_items": null,
      "left": null,
      "margin": null,
      "max_height": null,
      "max_width": null,
      "min_height": null,
      "min_width": null,
      "object_fit": null,
      "object_position": null,
      "order": null,
      "overflow": null,
      "overflow_x": null,
      "overflow_y": null,
      "padding": null,
      "right": null,
      "top": null,
      "visibility": "hidden",
      "width": null
     }
    },
    "869a91f7299d485f935b5b0d6d9b2f14": {
     "model_module": "@jupyter-widgets/controls",
     "model_module_version": "1.5.0",
     "model_name": "HTMLModel",
     "state": {
      "_dom_classes": [],
      "_model_module": "@jupyter-widgets/controls",
      "_model_module_version": "1.5.0",
      "_model_name": "HTMLModel",
      "_view_count": null,
      "_view_module": "@jupyter-widgets/controls",
      "_view_module_version": "1.5.0",
      "_view_name": "HTMLView",
      "description": "",
      "description_tooltip": null,
      "layout": "IPY_MODEL_3e7570f7169c48cc926adad1847442e2",
      "placeholder": "​",
      "style": "IPY_MODEL_994b2a4d5c3c47088c36422df1faaed3",
      "value": " 5735/5735 [1:02:02&lt;00:00,  1.81it/s, Training Loss=0.0863]"
     }
    },
    "909d8c427a5247f08a9b2112592961cb": {
     "model_module": "@jupyter-widgets/controls",
     "model_module_version": "1.5.0",
     "model_name": "HTMLModel",
     "state": {
      "_dom_classes": [],
      "_model_module": "@jupyter-widgets/controls",
      "_model_module_version": "1.5.0",
      "_model_name": "HTMLModel",
      "_view_count": null,
      "_view_module": "@jupyter-widgets/controls",
      "_view_module_version": "1.5.0",
      "_view_name": "HTMLView",
      "description": "",
      "description_tooltip": null,
      "layout": "IPY_MODEL_469e639ec4d944919a0e12b9cd8763b6",
      "placeholder": "​",
      "style": "IPY_MODEL_e087ef496a584bd5910b73b491920086",
      "value": "Validation: 100%"
     }
    },
    "994b2a4d5c3c47088c36422df1faaed3": {
     "model_module": "@jupyter-widgets/controls",
     "model_module_version": "1.5.0",
     "model_name": "DescriptionStyleModel",
     "state": {
      "_model_module": "@jupyter-widgets/controls",
      "_model_module_version": "1.5.0",
      "_model_name": "DescriptionStyleModel",
      "_view_count": null,
      "_view_module": "@jupyter-widgets/base",
      "_view_module_version": "1.2.0",
      "_view_name": "StyleView",
      "description_width": ""
     }
    },
    "b40aa3e9b73f4a869aaceeff33e62e84": {
     "model_module": "@jupyter-widgets/base",
     "model_module_version": "1.2.0",
     "model_name": "LayoutModel",
     "state": {
      "_model_module": "@jupyter-widgets/base",
      "_model_module_version": "1.2.0",
      "_model_name": "LayoutModel",
      "_view_count": null,
      "_view_module": "@jupyter-widgets/base",
      "_view_module_version": "1.2.0",
      "_view_name": "LayoutView",
      "align_content": null,
      "align_items": null,
      "align_self": null,
      "border": null,
      "bottom": null,
      "display": null,
      "flex": null,
      "flex_flow": null,
      "grid_area": null,
      "grid_auto_columns": null,
      "grid_auto_flow": null,
      "grid_auto_rows": null,
      "grid_column": null,
      "grid_gap": null,
      "grid_row": null,
      "grid_template_areas": null,
      "grid_template_columns": null,
      "grid_template_rows": null,
      "height": null,
      "justify_content": null,
      "justify_items": null,
      "left": null,
      "margin": null,
      "max_height": null,
      "max_width": null,
      "min_height": null,
      "min_width": null,
      "object_fit": null,
      "object_position": null,
      "order": null,
      "overflow": null,
      "overflow_x": null,
      "overflow_y": null,
      "padding": null,
      "right": null,
      "top": null,
      "visibility": null,
      "width": null
     }
    },
    "b8dbe56f7d804860b1f3f9508c7370f4": {
     "model_module": "@jupyter-widgets/controls",
     "model_module_version": "1.5.0",
     "model_name": "HBoxModel",
     "state": {
      "_dom_classes": [],
      "_model_module": "@jupyter-widgets/controls",
      "_model_module_version": "1.5.0",
      "_model_name": "HBoxModel",
      "_view_count": null,
      "_view_module": "@jupyter-widgets/controls",
      "_view_module_version": "1.5.0",
      "_view_name": "HBoxView",
      "box_style": "",
      "children": [
       "IPY_MODEL_5a85548867344032ac4a242a606e6984",
       "IPY_MODEL_054edd0dab5d4c798ee6c54e93022c70",
       "IPY_MODEL_869a91f7299d485f935b5b0d6d9b2f14"
      ],
      "layout": "IPY_MODEL_79219a9292a94dcc87b654a181879a30"
     }
    },
    "b9c29dc0fa6d48a0b902e7788de48240": {
     "model_module": "@jupyter-widgets/controls",
     "model_module_version": "1.5.0",
     "model_name": "ProgressStyleModel",
     "state": {
      "_model_module": "@jupyter-widgets/controls",
      "_model_module_version": "1.5.0",
      "_model_name": "ProgressStyleModel",
      "_view_count": null,
      "_view_module": "@jupyter-widgets/base",
      "_view_module_version": "1.2.0",
      "_view_name": "StyleView",
      "bar_color": null,
      "description_width": ""
     }
    },
    "d69b0f65accc4538b7cd4f88ef03b5f4": {
     "model_module": "@jupyter-widgets/controls",
     "model_module_version": "1.5.0",
     "model_name": "FloatProgressModel",
     "state": {
      "_dom_classes": [],
      "_model_module": "@jupyter-widgets/controls",
      "_model_module_version": "1.5.0",
      "_model_name": "FloatProgressModel",
      "_view_count": null,
      "_view_module": "@jupyter-widgets/controls",
      "_view_module_version": "1.5.0",
      "_view_name": "ProgressView",
      "bar_style": "",
      "description": "",
      "description_tooltip": null,
      "layout": "IPY_MODEL_245ecb418f1041c680c6406949653b8c",
      "max": 1992,
      "min": 0,
      "orientation": "horizontal",
      "style": "IPY_MODEL_2834fc1e9db84a5b8a88aaf390afc375",
      "value": 1992
     }
    },
    "dd528885d5824a929fa5c0173933a6ec": {
     "model_module": "@jupyter-widgets/base",
     "model_module_version": "1.2.0",
     "model_name": "LayoutModel",
     "state": {
      "_model_module": "@jupyter-widgets/base",
      "_model_module_version": "1.2.0",
      "_model_name": "LayoutModel",
      "_view_count": null,
      "_view_module": "@jupyter-widgets/base",
      "_view_module_version": "1.2.0",
      "_view_name": "LayoutView",
      "align_content": null,
      "align_items": null,
      "align_self": null,
      "border": null,
      "bottom": null,
      "display": null,
      "flex": null,
      "flex_flow": null,
      "grid_area": null,
      "grid_auto_columns": null,
      "grid_auto_flow": null,
      "grid_auto_rows": null,
      "grid_column": null,
      "grid_gap": null,
      "grid_row": null,
      "grid_template_areas": null,
      "grid_template_columns": null,
      "grid_template_rows": null,
      "height": null,
      "justify_content": null,
      "justify_items": null,
      "left": null,
      "margin": null,
      "max_height": null,
      "max_width": null,
      "min_height": null,
      "min_width": null,
      "object_fit": null,
      "object_position": null,
      "order": null,
      "overflow": null,
      "overflow_x": null,
      "overflow_y": null,
      "padding": null,
      "right": null,
      "top": null,
      "visibility": null,
      "width": null
     }
    },
    "df3512ff49f948739c267cb0e04b9299": {
     "model_module": "@jupyter-widgets/controls",
     "model_module_version": "1.5.0",
     "model_name": "HTMLModel",
     "state": {
      "_dom_classes": [],
      "_model_module": "@jupyter-widgets/controls",
      "_model_module_version": "1.5.0",
      "_model_name": "HTMLModel",
      "_view_count": null,
      "_view_module": "@jupyter-widgets/controls",
      "_view_module_version": "1.5.0",
      "_view_name": "HTMLView",
      "description": "",
      "description_tooltip": null,
      "layout": "IPY_MODEL_dd528885d5824a929fa5c0173933a6ec",
      "placeholder": "​",
      "style": "IPY_MODEL_1d705c1541c54144b27edb1788e4a74a",
      "value": " 1990/1992 [02:23&lt;00:00, 13.81it/s]"
     }
    },
    "e087ef496a584bd5910b73b491920086": {
     "model_module": "@jupyter-widgets/controls",
     "model_module_version": "1.5.0",
     "model_name": "DescriptionStyleModel",
     "state": {
      "_model_module": "@jupyter-widgets/controls",
      "_model_module_version": "1.5.0",
      "_model_name": "DescriptionStyleModel",
      "_view_count": null,
      "_view_module": "@jupyter-widgets/base",
      "_view_module_version": "1.2.0",
      "_view_name": "StyleView",
      "description_width": ""
     }
    },
    "e4dbbc5016e84353a8e4605996075828": {
     "model_module": "@jupyter-widgets/base",
     "model_module_version": "1.2.0",
     "model_name": "LayoutModel",
     "state": {
      "_model_module": "@jupyter-widgets/base",
      "_model_module_version": "1.2.0",
      "_model_name": "LayoutModel",
      "_view_count": null,
      "_view_module": "@jupyter-widgets/base",
      "_view_module_version": "1.2.0",
      "_view_name": "LayoutView",
      "align_content": null,
      "align_items": null,
      "align_self": null,
      "border": null,
      "bottom": null,
      "display": null,
      "flex": null,
      "flex_flow": null,
      "grid_area": null,
      "grid_auto_columns": null,
      "grid_auto_flow": null,
      "grid_auto_rows": null,
      "grid_column": null,
      "grid_gap": null,
      "grid_row": null,
      "grid_template_areas": null,
      "grid_template_columns": null,
      "grid_template_rows": null,
      "height": null,
      "justify_content": null,
      "justify_items": null,
      "left": null,
      "margin": null,
      "max_height": null,
      "max_width": null,
      "min_height": null,
      "min_width": null,
      "object_fit": null,
      "object_position": null,
      "order": null,
      "overflow": null,
      "overflow_x": null,
      "overflow_y": null,
      "padding": null,
      "right": null,
      "top": null,
      "visibility": "hidden",
      "width": null
     }
    },
    "edd71a6c1e494bc3b7dbb015942634b1": {
     "model_module": "@jupyter-widgets/base",
     "model_module_version": "1.2.0",
     "model_name": "LayoutModel",
     "state": {
      "_model_module": "@jupyter-widgets/base",
      "_model_module_version": "1.2.0",
      "_model_name": "LayoutModel",
      "_view_count": null,
      "_view_module": "@jupyter-widgets/base",
      "_view_module_version": "1.2.0",
      "_view_name": "LayoutView",
      "align_content": null,
      "align_items": null,
      "align_self": null,
      "border": null,
      "bottom": null,
      "display": null,
      "flex": null,
      "flex_flow": null,
      "grid_area": null,
      "grid_auto_columns": null,
      "grid_auto_flow": null,
      "grid_auto_rows": null,
      "grid_column": null,
      "grid_gap": null,
      "grid_row": null,
      "grid_template_areas": null,
      "grid_template_columns": null,
      "grid_template_rows": null,
      "height": null,
      "justify_content": null,
      "justify_items": null,
      "left": null,
      "margin": null,
      "max_height": null,
      "max_width": null,
      "min_height": null,
      "min_width": null,
      "object_fit": null,
      "object_position": null,
      "order": null,
      "overflow": null,
      "overflow_x": null,
      "overflow_y": null,
      "padding": null,
      "right": null,
      "top": null,
      "visibility": null,
      "width": null
     }
    }
   }
  }
 },
 "nbformat": 4,
 "nbformat_minor": 1
}
